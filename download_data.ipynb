{
 "cells": [
  {
   "cell_type": "code",
   "execution_count": 2,
   "metadata": {},
   "outputs": [],
   "source": [
    "import torchvision\n",
    "import torch\n",
    "\n",
    "# MNIST\n",
    "# imagenet_data = torchvision.datasets.MNIST('/hdd/zengs_data/vision_data/', download=True)\n",
    "\n",
    "# Imagenet\n",
    "traindir = \"./data/imagenet/\"\n",
    "valdir = \"./data/imagenet/\"\n",
    "# imagenet_data = torchvision.datasets.ImageNet(traindir)\n",
    "# print(\"1\")\n",
    "# data_loader = torch.utils.data.DataLoader(imagenet_data,\n",
    "#                                           batch_size=4,\n",
    "#                                           shuffle=True,\n",
    "#                                           num_workers=30)\n",
    "\n",
    "\n",
    "\n",
    "val_dataset = torchvision.datasets.ImageNet(valdir, split='val')\n",
    "# val_dataset.__getitem__(-1)"
   ]
  }
 ],
 "metadata": {
  "interpreter": {
   "hash": "90e58553da8ac84f2421ec4c72ca8acb821ca6d6186c518e0924d3b5dfe01cf2"
  },
  "kernelspec": {
   "display_name": "Python 3.7.13 ('venv_torch_37')",
   "language": "python",
   "name": "python3"
  },
  "language_info": {
   "codemirror_mode": {
    "name": "ipython",
    "version": 3
   },
   "file_extension": ".py",
   "mimetype": "text/x-python",
   "name": "python",
   "nbconvert_exporter": "python",
   "pygments_lexer": "ipython3",
   "version": "3.7.13"
  },
  "orig_nbformat": 4,
  "vscode": {
   "interpreter": {
    "hash": "d6df458e5ef4830b24cdd759d05e915e55361244d3787d1f3521674571c20f81"
   }
  }
 },
 "nbformat": 4,
 "nbformat_minor": 2
}
