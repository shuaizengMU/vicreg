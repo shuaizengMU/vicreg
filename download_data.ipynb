{
 "cells": [
  {
   "cell_type": "code",
   "execution_count": 16,
   "metadata": {},
   "outputs": [
    {
     "data": {
      "text/plain": [
       "(<PIL.Image.Image image mode=RGB size=500x500 at 0x7FA9DB6C1128>, 999)"
      ]
     },
     "execution_count": 16,
     "metadata": {},
     "output_type": "execute_result"
    }
   ],
   "source": [
    "import torchvision\n",
    "import torch\n",
    "\n",
    "# MNIST\n",
    "# imagenet_data = torchvision.datasets.MNIST('/hdd/zengs_data/vision_data/', download=True)\n",
    "\n",
    "# Imagenet\n",
    "traindir = \"./data/imagenet/\"\n",
    "valdir = \"./data/imagenet/\"\n",
    "# imagenet_data = torchvision.datasets.ImageNet('./data/imagenet')\n",
    "# print(\"1\")\n",
    "# data_loader = torch.utils.data.DataLoader(imagenet_data,\n",
    "#                                           batch_size=4,\n",
    "#                                           shuffle=True,\n",
    "#                                           num_workers=30)\n",
    "\n",
    "\n",
    "\n",
    "val_dataset = torchvision.datasets.ImageNet(valdir, split='val')\n",
    "val_dataset.__getitem__(-1)"
   ]
  }
 ],
 "metadata": {
  "kernelspec": {
   "display_name": "Python 3.6.8 ('venv_torch')",
   "language": "python",
   "name": "python3"
  },
  "language_info": {
   "codemirror_mode": {
    "name": "ipython",
    "version": 3
   },
   "file_extension": ".py",
   "mimetype": "text/x-python",
   "name": "python",
   "nbconvert_exporter": "python",
   "pygments_lexer": "ipython3",
   "version": "3.6.8"
  },
  "orig_nbformat": 4,
  "vscode": {
   "interpreter": {
    "hash": "d6df458e5ef4830b24cdd759d05e915e55361244d3787d1f3521674571c20f81"
   }
  }
 },
 "nbformat": 4,
 "nbformat_minor": 2
}
