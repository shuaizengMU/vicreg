{
 "cells": [
  {
   "cell_type": "code",
   "execution_count": 21,
   "metadata": {},
   "outputs": [],
   "source": [
    "import os\n",
    "import json\n",
    "\n",
    "import pandas as pd\n",
    "from PIL import Image\n",
    "import matplotlib.pyplot as plt\n",
    "\n",
    "import os\n",
    "import shutil\n",
    "from pathlib import Path"
   ]
  },
  {
   "cell_type": "code",
   "execution_count": 10,
   "metadata": {},
   "outputs": [
    {
     "name": "stdout",
     "output_type": "stream",
     "text": [
      "train.csv have 38400 images and 64 classes.\n",
      "val.csv have 9600 images and 16 classes.\n",
      "test.csv have 12000 images and 20 classes.\n",
      "all classes: 100\n"
     ]
    }
   ],
   "source": [
    "def read_csv_classes(csv_dir: str, csv_name: str):\n",
    "  data = pd.read_csv(os.path.join(csv_dir, csv_name))\n",
    "  # print(data.head(1))  # filename, label\n",
    "\n",
    "  label_set = set(data[\"label\"].drop_duplicates().values)\n",
    "\n",
    "  print(\"{} have {} images and {} classes.\".format(csv_name, data.shape[0],\n",
    "                                                   len(label_set)))\n",
    "  return data, label_set\n",
    "\n",
    "\n",
    "data_dir = \"/hdd/zengs_data/vision_data/imagenetmini-1000\"\n",
    "train_data, train_label = read_csv_classes(data_dir, \"train.csv\")\n",
    "val_data, val_label = read_csv_classes(data_dir, \"val.csv\")\n",
    "test_data, test_label = read_csv_classes(data_dir, \"test.csv\")\n",
    "\n",
    "train_data['dataset'] = 'train'\n",
    "val_data['dataset'] = 'val'\n",
    "test_data['dataset'] = 'test'\n",
    "\n",
    "data = pd.concat([train_data, val_data, test_data], axis=0)\n",
    "\n",
    "labels = (train_label | val_label | test_label)\n",
    "labels = list(labels)\n",
    "labels.sort()\n",
    "print(\"all classes: {}\".format(len(labels)))"
   ]
  },
  {
   "cell_type": "code",
   "execution_count": 11,
   "metadata": {},
   "outputs": [],
   "source": [
    "\n",
    "split_train_data = []\n",
    "split_val_data = []\n",
    "rate = 0.2\n",
    "for label in labels:\n",
    "  class_data = data[data[\"label\"] == label]\n",
    "  shuffle_data = class_data.sample(frac=1, random_state=1)\n",
    "  num_train_sample = int(class_data.shape[0] * (1 - rate))\n",
    "  split_train_data.append(shuffle_data[:num_train_sample])\n",
    "  split_val_data.append(shuffle_data[num_train_sample:])\n",
    "  \n",
    "# concatenate data\n",
    "new_train_data = pd.concat(split_train_data, axis=0)\n",
    "new_val_data = pd.concat(split_val_data, axis=0)"
   ]
  },
  {
   "cell_type": "code",
   "execution_count": 26,
   "metadata": {},
   "outputs": [],
   "source": [
    "# For training\n",
    "for index, row in new_train_data.iterrows():\n",
    "  filename = row['filename']\n",
    "  label = row['label']\n",
    "  dataset = row['dataset']\n",
    "  \n",
    "  original_filename = os.path.join(data_dir, dataset, label, filename)\n",
    "  new_filename = os.path.join(data_dir, 'new_dataset', 'train', label, filename)\n",
    "  \n",
    "  path = Path(new_filename).parent.absolute()\n",
    "  Path(path).mkdir(parents=True, exist_ok=True) \n",
    "  shutil.copyfile(original_filename, new_filename)\n",
    "  \n",
    "  # print(new_filename)\n",
    "  # break\n",
    "\n",
    "\n",
    "# For validation dataset\n",
    "for index, row in new_val_data.iterrows():\n",
    "  filename = row['filename']\n",
    "  label = row['label']\n",
    "  dataset = row['dataset']\n",
    "  \n",
    "  original_filename = os.path.join(data_dir, dataset, label, filename)\n",
    "  new_filename = os.path.join(data_dir, 'new_dataset', 'val', label, filename)\n",
    "  \n",
    "  path = Path(new_filename).parent.absolute()\n",
    "  Path(path).mkdir(parents=True, exist_ok=True) \n",
    "  shutil.copyfile(original_filename, new_filename)\n",
    "  \n",
    "  # print(new_filename)\n",
    "  # break"
   ]
  }
 ],
 "metadata": {
  "interpreter": {
   "hash": "90e58553da8ac84f2421ec4c72ca8acb821ca6d6186c518e0924d3b5dfe01cf2"
  },
  "kernelspec": {
   "display_name": "Python 3.7.13 ('venv_torch_37')",
   "language": "python",
   "name": "python3"
  },
  "language_info": {
   "codemirror_mode": {
    "name": "ipython",
    "version": 3
   },
   "file_extension": ".py",
   "mimetype": "text/x-python",
   "name": "python",
   "nbconvert_exporter": "python",
   "pygments_lexer": "ipython3",
   "version": "3.7.13"
  },
  "orig_nbformat": 4
 },
 "nbformat": 4,
 "nbformat_minor": 2
}
