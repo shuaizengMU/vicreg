{
 "cells": [
  {
   "cell_type": "code",
   "execution_count": 1,
   "metadata": {},
   "outputs": [],
   "source": [
    "import os \n",
    "import random\n",
    "import shutil\n",
    "\n",
    "random.seed(0)\n",
    "data_dir = './data/ILSVRC2012/imagenet'\n",
    "train_list = os.listdir(os.path.join(data_dir, 'train'))\n",
    "\n",
    "len(train_list)\n",
    "sample_data = random.sample(train_list,100)"
   ]
  },
  {
   "cell_type": "code",
   "execution_count": 2,
   "metadata": {},
   "outputs": [
    {
     "name": "stdout",
     "output_type": "stream",
     "text": [
      "train 0\n",
      "train 20\n",
      "train 40\n",
      "train 60\n",
      "train 80\n",
      "val 0\n",
      "val 20\n",
      "val 40\n",
      "val 60\n",
      "val 80\n"
     ]
    }
   ],
   "source": [
    "\n",
    "sample_data_dir = './data/ILSVRC2012/imagenet-100'\n",
    "for folder in ['train', 'val']:\n",
    "  for idx, sample_name in enumerate(sample_data):\n",
    "    if idx%20 == 0:\n",
    "      print(folder, idx)\n",
    "    source_dir = os.path.join(data_dir, folder, sample_name)\n",
    "    target_dir = os.path.join(sample_data_dir, folder, sample_name)\n",
    "    shutil.copytree(source_dir, target_dir)\n"
   ]
  }
 ],
 "metadata": {
  "interpreter": {
   "hash": "90e58553da8ac84f2421ec4c72ca8acb821ca6d6186c518e0924d3b5dfe01cf2"
  },
  "kernelspec": {
   "display_name": "Python 3.7.13 ('venv_torch_37')",
   "language": "python",
   "name": "python3"
  },
  "language_info": {
   "codemirror_mode": {
    "name": "ipython",
    "version": 3
   },
   "file_extension": ".py",
   "mimetype": "text/x-python",
   "name": "python",
   "nbconvert_exporter": "python",
   "pygments_lexer": "ipython3",
   "version": "3.7.13"
  },
  "orig_nbformat": 4
 },
 "nbformat": 4,
 "nbformat_minor": 2
}
