{
 "cells": [
  {
   "cell_type": "code",
   "execution_count": 39,
   "metadata": {},
   "outputs": [],
   "source": [
    "import os \n",
    "import random\n",
    "import shutil\n",
    "from threading import *\n",
    "from time import *\n",
    "\n",
    "random.seed(0)\n",
    "imagenet_data_dir = './data/ILSVRC2012/imagenet'\n",
    "imagenet_labels_all = os.listdir(os.path.join(imagenet_data_dir, 'train'))\n",
    "\n"
   ]
  },
  {
   "cell_type": "markdown",
   "metadata": {},
   "source": [
    "Randomly select 100 labels from whole imagenet dataset."
   ]
  },
  {
   "cell_type": "code",
   "execution_count": 2,
   "metadata": {},
   "outputs": [
    {
     "name": "stdout",
     "output_type": "stream",
     "text": [
      "train 0\n",
      "train 20\n",
      "train 40\n",
      "train 60\n",
      "train 80\n",
      "val 0\n",
      "val 20\n",
      "val 40\n",
      "val 60\n",
      "val 80\n"
     ]
    }
   ],
   "source": [
    "len(imagenet_labels_all)\n",
    "sample_data = random.sample(imagenet_labels_all,100)\n",
    "\n",
    "sample_data_dir = './data/ILSVRC2012/imagenet-100'\n",
    "for folder in ['train', 'val']:\n",
    "  for idx, sample_name in enumerate(sample_data):\n",
    "    if idx%20 == 0:\n",
    "      print(folder, idx)\n",
    "    source_dir = os.path.join(imagenet_data_dir, folder, sample_name)\n",
    "    target_dir = os.path.join(sample_data_dir, folder, sample_name)\n",
    "    shutil.copytree(source_dir, target_dir)\n"
   ]
  },
  {
   "cell_type": "markdown",
   "metadata": {},
   "source": [
    "generate small dataset which labels are same as imagenet-mini"
   ]
  },
  {
   "cell_type": "code",
   "execution_count": 35,
   "metadata": {},
   "outputs": [
    {
     "name": "stdout",
     "output_type": "stream",
     "text": [
      "100\n",
      "200\n",
      "300\n"
     ]
    }
   ],
   "source": [
    "# Imagenet-samemini-100/200/300\n",
    "random.seed(0)\n",
    "\n",
    "mini_labels_dict = {}\n",
    "for num_mini_labels in  [100, 200, 300]:\n",
    "  if num_mini_labels == 100:\n",
    "    fp = open('imagenet_meta/imagenet_mini-100.txt', mode='r')\n",
    "    mini_labels_100 = fp.readlines()\n",
    "    mini_labels_100 = [name.strip() for name in mini_labels_100]\n",
    "    mini_labels = mini_labels_100\n",
    "    \n",
    "\n",
    "  else:\n",
    "    remain_lables = [ name for name in imagenet_labels_all if name not in mini_labels]\n",
    "    sample_data = random.sample(remain_lables, 100)\n",
    "    mini_labels =  mini_labels + sample_data\n",
    "  \n",
    "  print(len(set(mini_labels)))\n",
    "  mini_labels_dict[f'labels_{num_mini_labels}'] = mini_labels\n"
   ]
  },
  {
   "cell_type": "code",
   "execution_count": null,
   "metadata": {},
   "outputs": [
    {
     "name": "stderr",
     "output_type": "stream",
     "text": [
      "Exception in thread Thread-6:\n",
      "Traceback (most recent call last):\n",
      "  File \"/cluster/spack-2021/opt/spack/linux-centos7-x86_64/gcc-9.3.0/python-3.8.6-ttexys5iu2bwd4hzx3yiqdyltsmwhn62/lib/python3.8/threading.py\", line 932, in _bootstrap_inner\n",
      "    self.run()\n",
      "  File \"/tmp/ipykernel_32235/3132134578.py\", line 10, in run\n"
     ]
    },
    {
     "name": "stderr",
     "output_type": "stream",
     "text": [
      "KeyError: 200\n"
     ]
    }
   ],
   "source": [
    "\n",
    "      \n",
    "class CopyImageNet(Thread):\n",
    "  \n",
    "  def __init__(self, imagenet_data_dir, mini_labels_dict, mini_label_id):\n",
    "    Thread.__init__(self)\n",
    "    self.imagenet_data_dir = imagenet_data_dir\n",
    "    self.mini_labels_dict = mini_labels_dict\n",
    "    self.mini_label_id = mini_label_id\n",
    "    \n",
    "  def run(self):\n",
    "    mini_labels = self.mini_labels_dict[self.mini_label_id]\n",
    "    sample_data_dir = f'./data/ILSVRC2012/imagenet-samemini-{self.mini_label_id}'\n",
    "    for data_source_type in ['train', 'val']:\n",
    "      for idx, label_name in enumerate(mini_labels):\n",
    "        if idx%20 == 0:\n",
    "          print(data_source_type, idx)\n",
    "        source_dir = os.path.join(imagenet_data_dir, data_source_type, label_name)\n",
    "        target_dir = os.path.join(sample_data_dir, data_source_type, label_name)\n",
    "        print(source_dir)\n",
    "        print(target_dir)\n",
    "        # shutil.copytree(source_dir, target_dir)\n",
    "        \n",
    "copy_thread = CopyImageNet(imagenet_data_dir, mini_labels_dict, 200)\n",
    "copy_thread.start()"
   ]
  }
 ],
 "metadata": {
  "kernelspec": {
   "display_name": "Python 3.8.6 ('venv_torch_38')",
   "language": "python",
   "name": "python3"
  },
  "language_info": {
   "codemirror_mode": {
    "name": "ipython",
    "version": 3
   },
   "file_extension": ".py",
   "mimetype": "text/x-python",
   "name": "python",
   "nbconvert_exporter": "python",
   "pygments_lexer": "ipython3",
   "version": "3.8.6"
  },
  "orig_nbformat": 4,
  "vscode": {
   "interpreter": {
    "hash": "ddae1ec82592f450a3a0abb696a20bf24c41993d1a7b152ced4d86ed65e2c17c"
   }
  }
 },
 "nbformat": 4,
 "nbformat_minor": 2
}
