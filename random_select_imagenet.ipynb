{
 "cells": [
  {
   "cell_type": "code",
   "execution_count": 2,
   "metadata": {},
   "outputs": [],
   "source": [
    "import os \n",
    "import random\n",
    "import shutil\n",
    "\n",
    "random.seed(0)\n",
    "data_dir = './data/ILSVRC2012/imagenet'\n",
    "train_list = os.listdir(os.path.join(data_dir, 'train'))\n",
    "\n"
   ]
  },
  {
   "cell_type": "markdown",
   "metadata": {},
   "source": [
    "Randomly select 100 labels from whole imagenet dataset."
   ]
  },
  {
   "cell_type": "code",
   "execution_count": 2,
   "metadata": {},
   "outputs": [
    {
     "name": "stdout",
     "output_type": "stream",
     "text": [
      "train 0\n",
      "train 20\n",
      "train 40\n",
      "train 60\n",
      "train 80\n",
      "val 0\n",
      "val 20\n",
      "val 40\n",
      "val 60\n",
      "val 80\n"
     ]
    }
   ],
   "source": [
    "len(train_list)\n",
    "sample_data = random.sample(train_list,100)\n",
    "\n",
    "sample_data_dir = './data/ILSVRC2012/imagenet-100'\n",
    "for folder in ['train', 'val']:\n",
    "  for idx, sample_name in enumerate(sample_data):\n",
    "    if idx%20 == 0:\n",
    "      print(folder, idx)\n",
    "    source_dir = os.path.join(data_dir, folder, sample_name)\n",
    "    target_dir = os.path.join(sample_data_dir, folder, sample_name)\n",
    "    shutil.copytree(source_dir, target_dir)\n"
   ]
  },
  {
   "cell_type": "markdown",
   "metadata": {},
   "source": [
    "generate small dataset which labels are same as imagenet-mini"
   ]
  },
  {
   "cell_type": "code",
   "execution_count": 1,
   "metadata": {},
   "outputs": [
    {
     "data": {
      "text/plain": [
       "['n01532829\\n',\n",
       " 'n01558993\\n',\n",
       " 'n01704323\\n',\n",
       " 'n01749939\\n',\n",
       " 'n01770081\\n',\n",
       " 'n01843383\\n',\n",
       " 'n01855672\\n',\n",
       " 'n01910747\\n',\n",
       " 'n01930112\\n',\n",
       " 'n01981276\\n',\n",
       " 'n02074367\\n',\n",
       " 'n02089867\\n',\n",
       " 'n02091244\\n',\n",
       " 'n02091831\\n',\n",
       " 'n02099601\\n',\n",
       " 'n02101006\\n',\n",
       " 'n02105505\\n',\n",
       " 'n02108089\\n',\n",
       " 'n02108551\\n',\n",
       " 'n02108915\\n',\n",
       " 'n02110063\\n',\n",
       " 'n02110341\\n',\n",
       " 'n02111277\\n',\n",
       " 'n02113712\\n',\n",
       " 'n02114548\\n',\n",
       " 'n02116738\\n',\n",
       " 'n02120079\\n',\n",
       " 'n02129165\\n',\n",
       " 'n02138441\\n',\n",
       " 'n02165456\\n',\n",
       " 'n02174001\\n',\n",
       " 'n02219486\\n',\n",
       " 'n02443484\\n',\n",
       " 'n02457408\\n',\n",
       " 'n02606052\\n',\n",
       " 'n02687172\\n',\n",
       " 'n02747177\\n',\n",
       " 'n02795169\\n',\n",
       " 'n02823428\\n',\n",
       " 'n02871525\\n',\n",
       " 'n02950826\\n',\n",
       " 'n02966193\\n',\n",
       " 'n02971356\\n',\n",
       " 'n02981792\\n',\n",
       " 'n03017168\\n',\n",
       " 'n03047690\\n',\n",
       " 'n03062245\\n',\n",
       " 'n03075370\\n',\n",
       " 'n03127925\\n',\n",
       " 'n03146219\\n',\n",
       " 'n03207743\\n',\n",
       " 'n03220513\\n',\n",
       " 'n03272010\\n',\n",
       " 'n03337140\\n',\n",
       " 'n03347037\\n',\n",
       " 'n03400231\\n',\n",
       " 'n03417042\\n',\n",
       " 'n03476684\\n',\n",
       " 'n03527444\\n',\n",
       " 'n03535780\\n',\n",
       " 'n03544143\\n',\n",
       " 'n03584254\\n',\n",
       " 'n03676483\\n',\n",
       " 'n03770439\\n',\n",
       " 'n03773504\\n',\n",
       " 'n03775546\\n',\n",
       " 'n03838899\\n',\n",
       " 'n03854065\\n',\n",
       " 'n03888605\\n',\n",
       " 'n03908618\\n',\n",
       " 'n03924679\\n',\n",
       " 'n03980874\\n',\n",
       " 'n03998194\\n',\n",
       " 'n04067472\\n',\n",
       " 'n04146614\\n',\n",
       " 'n04149813\\n',\n",
       " 'n04243546\\n',\n",
       " 'n04251144\\n',\n",
       " 'n04258138\\n',\n",
       " 'n04275548\\n',\n",
       " 'n04296562\\n',\n",
       " 'n04389033\\n',\n",
       " 'n04418357\\n',\n",
       " 'n04435653\\n',\n",
       " 'n04443257\\n',\n",
       " 'n04509417\\n',\n",
       " 'n04515003\\n',\n",
       " 'n04522168\\n',\n",
       " 'n04596742\\n',\n",
       " 'n04604644\\n',\n",
       " 'n04612504\\n',\n",
       " 'n06794110\\n',\n",
       " 'n07584110\\n',\n",
       " 'n07613480\\n',\n",
       " 'n07697537\\n',\n",
       " 'n07747607\\n',\n",
       " 'n09246464\\n',\n",
       " 'n09256479\\n',\n",
       " 'n13054560\\n',\n",
       " 'n13133613\\n']"
      ]
     },
     "execution_count": 1,
     "metadata": {},
     "output_type": "execute_result"
    }
   ],
   "source": [
    "\n",
    "fp = open('imagenet_mini_class.txt', mode='r')\n",
    "class_list = fp.readlines()\n",
    "\n",
    "class_list"
   ]
  }
 ],
 "metadata": {
  "interpreter": {
   "hash": "90e58553da8ac84f2421ec4c72ca8acb821ca6d6186c518e0924d3b5dfe01cf2"
  },
  "kernelspec": {
   "display_name": "Python 3.7.13 ('venv_torch_37')",
   "language": "python",
   "name": "python3"
  },
  "language_info": {
   "codemirror_mode": {
    "name": "ipython",
    "version": 3
   },
   "file_extension": ".py",
   "mimetype": "text/x-python",
   "name": "python",
   "nbconvert_exporter": "python",
   "pygments_lexer": "ipython3",
   "version": "3.7.13"
  },
  "orig_nbformat": 4
 },
 "nbformat": 4,
 "nbformat_minor": 2
}
